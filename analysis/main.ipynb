{
 "cells": [
  {
   "cell_type": "code",
   "execution_count": 1,
   "metadata": {},
   "outputs": [],
   "source": [
    "from board_processors import CASB1Processor, CASB2Processor, MTCAProcessor\n",
    "from utils import histogram_board_rise_times, plot_delays"
   ]
  },
  {
   "cell_type": "code",
   "execution_count": 8,
   "metadata": {},
   "outputs": [
    {
     "name": "stdout",
     "output_type": "stream",
     "text": [
      "Loaded 30 singles files across 1 channels for CASB1\n",
      "Loaded 20 averages files across 20 channels for CASB1\n",
      "Loaded 88 singles files across 5 channels for CASB2\n",
      "Loaded 22 averages files across 20 channels for CASB2\n",
      "Loaded 35 singles files across 1 channels for MTCA1\n",
      "Warning: No files found matching pattern: Don't have MTCA averages yet\n"
     ]
    }
   ],
   "source": [
    "casb1 = CASB1Processor()\n",
    "casb2 = CASB2Processor()\n",
    "mtca = MTCAProcessor()\n",
    "\n",
    "casb1.load_data()\n",
    "casb2.load_data()\n",
    "mtca.load_data()\n",
    "\n",
    "# casb1.calculate_all_rise_times('averages',0.1,0.9,100,0.1,0.9,True,'output','input')\n",
    "# casb2.calculate_all_rise_times('averages',0.1,0.9,100,0.1,0.9,True,'output','input')\n",
    "# mtca.calculate_all_rise_times('averages',0.1,0.9,100,0.1,0.9,True,'output','input')\n",
    "\n",
    "boards = [casb1, casb2, mtca]\n",
    "\n"
   ]
  },
  {
   "cell_type": "code",
   "execution_count": 9,
   "metadata": {},
   "outputs": [],
   "source": [
    "\n",
    "# plot_delays(boards, 'averages')"
   ]
  },
  {
   "cell_type": "code",
   "execution_count": null,
   "metadata": {},
   "outputs": [],
   "source": []
  }
 ],
 "metadata": {
  "kernelspec": {
   "display_name": "Python 3",
   "language": "python",
   "name": "python3"
  },
  "language_info": {
   "codemirror_mode": {
    "name": "ipython",
    "version": 3
   },
   "file_extension": ".py",
   "mimetype": "text/x-python",
   "name": "python",
   "nbconvert_exporter": "python",
   "pygments_lexer": "ipython3",
   "version": "3.10.12"
  }
 },
 "nbformat": 4,
 "nbformat_minor": 2
}
